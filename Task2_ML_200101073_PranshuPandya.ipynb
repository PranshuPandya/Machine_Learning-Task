{
 "cells": [
  {
   "cell_type": "code",
   "execution_count": 1,
   "metadata": {},
   "outputs": [],
   "source": [
    "import pandas as pd"
   ]
  },
  {
   "cell_type": "code",
   "execution_count": 2,
   "metadata": {},
   "outputs": [],
   "source": [
    "df=pd.read_csv(\"task2.csv\")"
   ]
  },
  {
   "cell_type": "code",
   "execution_count": 3,
   "metadata": {},
   "outputs": [
    {
     "data": {
      "text/html": [
       "<div>\n",
       "<style scoped>\n",
       "    .dataframe tbody tr th:only-of-type {\n",
       "        vertical-align: middle;\n",
       "    }\n",
       "\n",
       "    .dataframe tbody tr th {\n",
       "        vertical-align: top;\n",
       "    }\n",
       "\n",
       "    .dataframe thead th {\n",
       "        text-align: right;\n",
       "    }\n",
       "</style>\n",
       "<table border=\"1\" class=\"dataframe\">\n",
       "  <thead>\n",
       "    <tr style=\"text-align: right;\">\n",
       "      <th></th>\n",
       "      <th>ID</th>\n",
       "      <th>Segment type</th>\n",
       "      <th>Segment Description</th>\n",
       "      <th>Answer</th>\n",
       "      <th>Count</th>\n",
       "      <th>Percentage</th>\n",
       "      <th>It became a relationship</th>\n",
       "    </tr>\n",
       "  </thead>\n",
       "  <tbody>\n",
       "    <tr>\n",
       "      <th>0</th>\n",
       "      <td>292890.8970</td>\n",
       "      <td>web</td>\n",
       "      <td>Meridian, Idaho</td>\n",
       "      <td>No</td>\n",
       "      <td>0.000000</td>\n",
       "      <td>0.000000</td>\n",
       "      <td>0</td>\n",
       "    </tr>\n",
       "    <tr>\n",
       "      <th>1</th>\n",
       "      <td>292887.9870</td>\n",
       "      <td>web</td>\n",
       "      <td>Meridian, Idaho</td>\n",
       "      <td>No</td>\n",
       "      <td>0.000000</td>\n",
       "      <td>0.000000</td>\n",
       "      <td>0</td>\n",
       "    </tr>\n",
       "    <tr>\n",
       "      <th>2</th>\n",
       "      <td>292894.0656</td>\n",
       "      <td>gender</td>\n",
       "      <td>Meridian, Idaho</td>\n",
       "      <td>No</td>\n",
       "      <td>499.173606</td>\n",
       "      <td>0.225255</td>\n",
       "      <td>0</td>\n",
       "    </tr>\n",
       "    <tr>\n",
       "      <th>3</th>\n",
       "      <td>292887.1180</td>\n",
       "      <td>web</td>\n",
       "      <td>Meridian, Idaho</td>\n",
       "      <td>No</td>\n",
       "      <td>0.000000</td>\n",
       "      <td>0.000000</td>\n",
       "      <td>0</td>\n",
       "    </tr>\n",
       "    <tr>\n",
       "      <th>4</th>\n",
       "      <td>292893.6561</td>\n",
       "      <td>gender</td>\n",
       "      <td>Meridian, Idaho</td>\n",
       "      <td>No</td>\n",
       "      <td>455.925963</td>\n",
       "      <td>0.211360</td>\n",
       "      <td>0</td>\n",
       "    </tr>\n",
       "    <tr>\n",
       "      <th>...</th>\n",
       "      <td>...</td>\n",
       "      <td>...</td>\n",
       "      <td>...</td>\n",
       "      <td>...</td>\n",
       "      <td>...</td>\n",
       "      <td>...</td>\n",
       "      <td>...</td>\n",
       "    </tr>\n",
       "    <tr>\n",
       "      <th>1891</th>\n",
       "      <td>292887.5496</td>\n",
       "      <td>web</td>\n",
       "      <td>Meridian, Idaho</td>\n",
       "      <td>No</td>\n",
       "      <td>0.000000</td>\n",
       "      <td>0.000000</td>\n",
       "      <td>0</td>\n",
       "    </tr>\n",
       "    <tr>\n",
       "      <th>1892</th>\n",
       "      <td>292881.6932</td>\n",
       "      <td>mobile</td>\n",
       "      <td>Meridian, Idaho</td>\n",
       "      <td>No</td>\n",
       "      <td>1203.190399</td>\n",
       "      <td>0.312360</td>\n",
       "      <td>0</td>\n",
       "    </tr>\n",
       "    <tr>\n",
       "      <th>1893</th>\n",
       "      <td>292900.8499</td>\n",
       "      <td>gender</td>\n",
       "      <td>Meridian, Idaho</td>\n",
       "      <td>No</td>\n",
       "      <td>806.378820</td>\n",
       "      <td>0.488025</td>\n",
       "      <td>0</td>\n",
       "    </tr>\n",
       "    <tr>\n",
       "      <th>1894</th>\n",
       "      <td>292893.8600</td>\n",
       "      <td>gender</td>\n",
       "      <td>Meridian, Idaho</td>\n",
       "      <td>No</td>\n",
       "      <td>1149.529381</td>\n",
       "      <td>0.488984</td>\n",
       "      <td>0</td>\n",
       "    </tr>\n",
       "    <tr>\n",
       "      <th>1895</th>\n",
       "      <td>292890.2944</td>\n",
       "      <td>web</td>\n",
       "      <td>Meridian, Idaho</td>\n",
       "      <td>No</td>\n",
       "      <td>0.000000</td>\n",
       "      <td>0.000000</td>\n",
       "      <td>0</td>\n",
       "    </tr>\n",
       "  </tbody>\n",
       "</table>\n",
       "<p>1896 rows × 7 columns</p>\n",
       "</div>"
      ],
      "text/plain": [
       "               ID Segment type Segment Description Answer        Count  \\\n",
       "0     292890.8970          web     Meridian, Idaho     No     0.000000   \n",
       "1     292887.9870          web     Meridian, Idaho     No     0.000000   \n",
       "2     292894.0656       gender     Meridian, Idaho     No   499.173606   \n",
       "3     292887.1180          web     Meridian, Idaho     No     0.000000   \n",
       "4     292893.6561       gender     Meridian, Idaho     No   455.925963   \n",
       "...           ...          ...                 ...    ...          ...   \n",
       "1891  292887.5496          web     Meridian, Idaho     No     0.000000   \n",
       "1892  292881.6932       mobile     Meridian, Idaho     No  1203.190399   \n",
       "1893  292900.8499       gender     Meridian, Idaho     No   806.378820   \n",
       "1894  292893.8600       gender     Meridian, Idaho     No  1149.529381   \n",
       "1895  292890.2944          web     Meridian, Idaho     No     0.000000   \n",
       "\n",
       "      Percentage  It became a relationship  \n",
       "0       0.000000                         0  \n",
       "1       0.000000                         0  \n",
       "2       0.225255                         0  \n",
       "3       0.000000                         0  \n",
       "4       0.211360                         0  \n",
       "...          ...                       ...  \n",
       "1891    0.000000                         0  \n",
       "1892    0.312360                         0  \n",
       "1893    0.488025                         0  \n",
       "1894    0.488984                         0  \n",
       "1895    0.000000                         0  \n",
       "\n",
       "[1896 rows x 7 columns]"
      ]
     },
     "execution_count": 3,
     "metadata": {},
     "output_type": "execute_result"
    }
   ],
   "source": [
    "df"
   ]
  },
  {
   "cell_type": "code",
   "execution_count": 19,
   "metadata": {},
   "outputs": [],
   "source": [
    "df[\"Answer\"].replace({\"I don't use Tinder\":\"No\"},inplace=True)"
   ]
  },
  {
   "cell_type": "code",
   "execution_count": 33,
   "metadata": {},
   "outputs": [],
   "source": [
    "df[\"Answer\"].replace({\"No\":0,\"Yes\":1},inplace=True)"
   ]
  },
  {
   "cell_type": "code",
   "execution_count": 4,
   "metadata": {},
   "outputs": [],
   "source": [
    "import numpy as np"
   ]
  },
  {
   "cell_type": "code",
   "execution_count": 5,
   "metadata": {},
   "outputs": [
    {
     "data": {
      "text/html": [
       "<div>\n",
       "<style scoped>\n",
       "    .dataframe tbody tr th:only-of-type {\n",
       "        vertical-align: middle;\n",
       "    }\n",
       "\n",
       "    .dataframe tbody tr th {\n",
       "        vertical-align: top;\n",
       "    }\n",
       "\n",
       "    .dataframe thead th {\n",
       "        text-align: right;\n",
       "    }\n",
       "</style>\n",
       "<table border=\"1\" class=\"dataframe\">\n",
       "  <thead>\n",
       "    <tr style=\"text-align: right;\">\n",
       "      <th></th>\n",
       "      <th>ID</th>\n",
       "      <th>Segment type</th>\n",
       "      <th>Segment Description</th>\n",
       "      <th>Answer</th>\n",
       "      <th>Count</th>\n",
       "      <th>Percentage</th>\n",
       "      <th>It became a relationship</th>\n",
       "    </tr>\n",
       "  </thead>\n",
       "  <tbody>\n",
       "    <tr>\n",
       "      <th>0</th>\n",
       "      <td>False</td>\n",
       "      <td>False</td>\n",
       "      <td>False</td>\n",
       "      <td>False</td>\n",
       "      <td>False</td>\n",
       "      <td>False</td>\n",
       "      <td>False</td>\n",
       "    </tr>\n",
       "    <tr>\n",
       "      <th>1</th>\n",
       "      <td>False</td>\n",
       "      <td>False</td>\n",
       "      <td>False</td>\n",
       "      <td>False</td>\n",
       "      <td>False</td>\n",
       "      <td>False</td>\n",
       "      <td>False</td>\n",
       "    </tr>\n",
       "    <tr>\n",
       "      <th>2</th>\n",
       "      <td>False</td>\n",
       "      <td>False</td>\n",
       "      <td>False</td>\n",
       "      <td>False</td>\n",
       "      <td>False</td>\n",
       "      <td>False</td>\n",
       "      <td>False</td>\n",
       "    </tr>\n",
       "    <tr>\n",
       "      <th>3</th>\n",
       "      <td>False</td>\n",
       "      <td>False</td>\n",
       "      <td>False</td>\n",
       "      <td>False</td>\n",
       "      <td>False</td>\n",
       "      <td>False</td>\n",
       "      <td>False</td>\n",
       "    </tr>\n",
       "    <tr>\n",
       "      <th>4</th>\n",
       "      <td>False</td>\n",
       "      <td>False</td>\n",
       "      <td>False</td>\n",
       "      <td>False</td>\n",
       "      <td>False</td>\n",
       "      <td>False</td>\n",
       "      <td>False</td>\n",
       "    </tr>\n",
       "    <tr>\n",
       "      <th>...</th>\n",
       "      <td>...</td>\n",
       "      <td>...</td>\n",
       "      <td>...</td>\n",
       "      <td>...</td>\n",
       "      <td>...</td>\n",
       "      <td>...</td>\n",
       "      <td>...</td>\n",
       "    </tr>\n",
       "    <tr>\n",
       "      <th>1891</th>\n",
       "      <td>False</td>\n",
       "      <td>False</td>\n",
       "      <td>False</td>\n",
       "      <td>False</td>\n",
       "      <td>False</td>\n",
       "      <td>False</td>\n",
       "      <td>False</td>\n",
       "    </tr>\n",
       "    <tr>\n",
       "      <th>1892</th>\n",
       "      <td>False</td>\n",
       "      <td>False</td>\n",
       "      <td>False</td>\n",
       "      <td>False</td>\n",
       "      <td>False</td>\n",
       "      <td>False</td>\n",
       "      <td>False</td>\n",
       "    </tr>\n",
       "    <tr>\n",
       "      <th>1893</th>\n",
       "      <td>False</td>\n",
       "      <td>False</td>\n",
       "      <td>False</td>\n",
       "      <td>False</td>\n",
       "      <td>False</td>\n",
       "      <td>False</td>\n",
       "      <td>False</td>\n",
       "    </tr>\n",
       "    <tr>\n",
       "      <th>1894</th>\n",
       "      <td>False</td>\n",
       "      <td>False</td>\n",
       "      <td>False</td>\n",
       "      <td>False</td>\n",
       "      <td>False</td>\n",
       "      <td>False</td>\n",
       "      <td>False</td>\n",
       "    </tr>\n",
       "    <tr>\n",
       "      <th>1895</th>\n",
       "      <td>False</td>\n",
       "      <td>False</td>\n",
       "      <td>False</td>\n",
       "      <td>False</td>\n",
       "      <td>False</td>\n",
       "      <td>False</td>\n",
       "      <td>False</td>\n",
       "    </tr>\n",
       "  </tbody>\n",
       "</table>\n",
       "<p>1896 rows × 7 columns</p>\n",
       "</div>"
      ],
      "text/plain": [
       "         ID  Segment type  Segment Description  Answer  Count  Percentage  \\\n",
       "0     False         False                False   False  False       False   \n",
       "1     False         False                False   False  False       False   \n",
       "2     False         False                False   False  False       False   \n",
       "3     False         False                False   False  False       False   \n",
       "4     False         False                False   False  False       False   \n",
       "...     ...           ...                  ...     ...    ...         ...   \n",
       "1891  False         False                False   False  False       False   \n",
       "1892  False         False                False   False  False       False   \n",
       "1893  False         False                False   False  False       False   \n",
       "1894  False         False                False   False  False       False   \n",
       "1895  False         False                False   False  False       False   \n",
       "\n",
       "      It became a relationship  \n",
       "0                        False  \n",
       "1                        False  \n",
       "2                        False  \n",
       "3                        False  \n",
       "4                        False  \n",
       "...                        ...  \n",
       "1891                     False  \n",
       "1892                     False  \n",
       "1893                     False  \n",
       "1894                     False  \n",
       "1895                     False  \n",
       "\n",
       "[1896 rows x 7 columns]"
      ]
     },
     "execution_count": 5,
     "metadata": {},
     "output_type": "execute_result"
    }
   ],
   "source": [
    "df.isnull()"
   ]
  },
  {
   "cell_type": "code",
   "execution_count": 6,
   "metadata": {},
   "outputs": [
    {
     "data": {
      "text/plain": [
       "ID                          0\n",
       "Segment type                0\n",
       "Segment Description         0\n",
       "Answer                      0\n",
       "Count                       0\n",
       "Percentage                  0\n",
       "It became a relationship    0\n",
       "dtype: int64"
      ]
     },
     "execution_count": 6,
     "metadata": {},
     "output_type": "execute_result"
    }
   ],
   "source": [
    "df.isnull().sum()"
   ]
  },
  {
   "cell_type": "code",
   "execution_count": 7,
   "metadata": {},
   "outputs": [],
   "source": [
    "import matplotlib.pyplot as plt\n",
    "from sklearn import linear_model"
   ]
  },
  {
   "cell_type": "code",
   "execution_count": 8,
   "metadata": {},
   "outputs": [],
   "source": [
    "from sklearn.model_selection import train_test_split"
   ]
  },
  {
   "cell_type": "code",
   "execution_count": 35,
   "metadata": {},
   "outputs": [],
   "source": [
    "y=df[\"It became a relationship\"]"
   ]
  },
  {
   "cell_type": "code",
   "execution_count": 10,
   "metadata": {},
   "outputs": [
    {
     "data": {
      "text/plain": [
       "0       0\n",
       "1       0\n",
       "2       0\n",
       "3       0\n",
       "4       0\n",
       "       ..\n",
       "1891    0\n",
       "1892    0\n",
       "1893    0\n",
       "1894    0\n",
       "1895    0\n",
       "Name: It became a relationship, Length: 1896, dtype: int64"
      ]
     },
     "execution_count": 10,
     "metadata": {},
     "output_type": "execute_result"
    }
   ],
   "source": [
    "y"
   ]
  },
  {
   "cell_type": "code",
   "execution_count": 43,
   "metadata": {},
   "outputs": [],
   "source": [
    "x=df.drop([\"It became a relationship\",\"Segment Description\", \"Segment type\", \"ID\"], axis=1)"
   ]
  },
  {
   "cell_type": "code",
   "execution_count": 44,
   "metadata": {},
   "outputs": [
    {
     "data": {
      "text/html": [
       "<div>\n",
       "<style scoped>\n",
       "    .dataframe tbody tr th:only-of-type {\n",
       "        vertical-align: middle;\n",
       "    }\n",
       "\n",
       "    .dataframe tbody tr th {\n",
       "        vertical-align: top;\n",
       "    }\n",
       "\n",
       "    .dataframe thead th {\n",
       "        text-align: right;\n",
       "    }\n",
       "</style>\n",
       "<table border=\"1\" class=\"dataframe\">\n",
       "  <thead>\n",
       "    <tr style=\"text-align: right;\">\n",
       "      <th></th>\n",
       "      <th>Answer</th>\n",
       "      <th>Count</th>\n",
       "      <th>Percentage</th>\n",
       "    </tr>\n",
       "  </thead>\n",
       "  <tbody>\n",
       "    <tr>\n",
       "      <th>0</th>\n",
       "      <td>0</td>\n",
       "      <td>0.000000</td>\n",
       "      <td>0.000000</td>\n",
       "    </tr>\n",
       "    <tr>\n",
       "      <th>1</th>\n",
       "      <td>0</td>\n",
       "      <td>0.000000</td>\n",
       "      <td>0.000000</td>\n",
       "    </tr>\n",
       "    <tr>\n",
       "      <th>2</th>\n",
       "      <td>0</td>\n",
       "      <td>499.173606</td>\n",
       "      <td>0.225255</td>\n",
       "    </tr>\n",
       "    <tr>\n",
       "      <th>3</th>\n",
       "      <td>0</td>\n",
       "      <td>0.000000</td>\n",
       "      <td>0.000000</td>\n",
       "    </tr>\n",
       "    <tr>\n",
       "      <th>4</th>\n",
       "      <td>0</td>\n",
       "      <td>455.925963</td>\n",
       "      <td>0.211360</td>\n",
       "    </tr>\n",
       "    <tr>\n",
       "      <th>...</th>\n",
       "      <td>...</td>\n",
       "      <td>...</td>\n",
       "      <td>...</td>\n",
       "    </tr>\n",
       "    <tr>\n",
       "      <th>1891</th>\n",
       "      <td>0</td>\n",
       "      <td>0.000000</td>\n",
       "      <td>0.000000</td>\n",
       "    </tr>\n",
       "    <tr>\n",
       "      <th>1892</th>\n",
       "      <td>0</td>\n",
       "      <td>1203.190399</td>\n",
       "      <td>0.312360</td>\n",
       "    </tr>\n",
       "    <tr>\n",
       "      <th>1893</th>\n",
       "      <td>0</td>\n",
       "      <td>806.378820</td>\n",
       "      <td>0.488025</td>\n",
       "    </tr>\n",
       "    <tr>\n",
       "      <th>1894</th>\n",
       "      <td>0</td>\n",
       "      <td>1149.529381</td>\n",
       "      <td>0.488984</td>\n",
       "    </tr>\n",
       "    <tr>\n",
       "      <th>1895</th>\n",
       "      <td>0</td>\n",
       "      <td>0.000000</td>\n",
       "      <td>0.000000</td>\n",
       "    </tr>\n",
       "  </tbody>\n",
       "</table>\n",
       "<p>1896 rows × 3 columns</p>\n",
       "</div>"
      ],
      "text/plain": [
       "      Answer        Count  Percentage\n",
       "0          0     0.000000    0.000000\n",
       "1          0     0.000000    0.000000\n",
       "2          0   499.173606    0.225255\n",
       "3          0     0.000000    0.000000\n",
       "4          0   455.925963    0.211360\n",
       "...      ...          ...         ...\n",
       "1891       0     0.000000    0.000000\n",
       "1892       0  1203.190399    0.312360\n",
       "1893       0   806.378820    0.488025\n",
       "1894       0  1149.529381    0.488984\n",
       "1895       0     0.000000    0.000000\n",
       "\n",
       "[1896 rows x 3 columns]"
      ]
     },
     "execution_count": 44,
     "metadata": {},
     "output_type": "execute_result"
    }
   ],
   "source": [
    "x"
   ]
  },
  {
   "cell_type": "code",
   "execution_count": 45,
   "metadata": {},
   "outputs": [],
   "source": [
    "x_train, x_test, y_train, y_test = train_test_split(x,y, test_size = 0.15, random_state=42)"
   ]
  },
  {
   "cell_type": "code",
   "execution_count": 46,
   "metadata": {},
   "outputs": [
    {
     "data": {
      "text/html": [
       "<div>\n",
       "<style scoped>\n",
       "    .dataframe tbody tr th:only-of-type {\n",
       "        vertical-align: middle;\n",
       "    }\n",
       "\n",
       "    .dataframe tbody tr th {\n",
       "        vertical-align: top;\n",
       "    }\n",
       "\n",
       "    .dataframe thead th {\n",
       "        text-align: right;\n",
       "    }\n",
       "</style>\n",
       "<table border=\"1\" class=\"dataframe\">\n",
       "  <thead>\n",
       "    <tr style=\"text-align: right;\">\n",
       "      <th></th>\n",
       "      <th>Answer</th>\n",
       "      <th>Count</th>\n",
       "      <th>Percentage</th>\n",
       "    </tr>\n",
       "  </thead>\n",
       "  <tbody>\n",
       "    <tr>\n",
       "      <th>185</th>\n",
       "      <td>0</td>\n",
       "      <td>476.626020</td>\n",
       "      <td>0.223724</td>\n",
       "    </tr>\n",
       "    <tr>\n",
       "      <th>575</th>\n",
       "      <td>0</td>\n",
       "      <td>0.000000</td>\n",
       "      <td>0.000000</td>\n",
       "    </tr>\n",
       "    <tr>\n",
       "      <th>1821</th>\n",
       "      <td>0</td>\n",
       "      <td>1.000000</td>\n",
       "      <td>0.500000</td>\n",
       "    </tr>\n",
       "    <tr>\n",
       "      <th>478</th>\n",
       "      <td>0</td>\n",
       "      <td>0.000000</td>\n",
       "      <td>0.000000</td>\n",
       "    </tr>\n",
       "    <tr>\n",
       "      <th>1477</th>\n",
       "      <td>0</td>\n",
       "      <td>0.000000</td>\n",
       "      <td>0.000000</td>\n",
       "    </tr>\n",
       "    <tr>\n",
       "      <th>...</th>\n",
       "      <td>...</td>\n",
       "      <td>...</td>\n",
       "      <td>...</td>\n",
       "    </tr>\n",
       "    <tr>\n",
       "      <th>1130</th>\n",
       "      <td>0</td>\n",
       "      <td>534.497205</td>\n",
       "      <td>0.297141</td>\n",
       "    </tr>\n",
       "    <tr>\n",
       "      <th>1294</th>\n",
       "      <td>0</td>\n",
       "      <td>963.338965</td>\n",
       "      <td>0.505186</td>\n",
       "    </tr>\n",
       "    <tr>\n",
       "      <th>860</th>\n",
       "      <td>0</td>\n",
       "      <td>0.000000</td>\n",
       "      <td>0.000000</td>\n",
       "    </tr>\n",
       "    <tr>\n",
       "      <th>1459</th>\n",
       "      <td>0</td>\n",
       "      <td>1061.604943</td>\n",
       "      <td>0.302600</td>\n",
       "    </tr>\n",
       "    <tr>\n",
       "      <th>1126</th>\n",
       "      <td>0</td>\n",
       "      <td>509.972995</td>\n",
       "      <td>0.301028</td>\n",
       "    </tr>\n",
       "  </tbody>\n",
       "</table>\n",
       "<p>1611 rows × 3 columns</p>\n",
       "</div>"
      ],
      "text/plain": [
       "      Answer        Count  Percentage\n",
       "185        0   476.626020    0.223724\n",
       "575        0     0.000000    0.000000\n",
       "1821       0     1.000000    0.500000\n",
       "478        0     0.000000    0.000000\n",
       "1477       0     0.000000    0.000000\n",
       "...      ...          ...         ...\n",
       "1130       0   534.497205    0.297141\n",
       "1294       0   963.338965    0.505186\n",
       "860        0     0.000000    0.000000\n",
       "1459       0  1061.604943    0.302600\n",
       "1126       0   509.972995    0.301028\n",
       "\n",
       "[1611 rows x 3 columns]"
      ]
     },
     "execution_count": 46,
     "metadata": {},
     "output_type": "execute_result"
    }
   ],
   "source": [
    "x_train"
   ]
  },
  {
   "cell_type": "code",
   "execution_count": 15,
   "metadata": {},
   "outputs": [
    {
     "data": {
      "text/plain": [
       "185     0\n",
       "575     0\n",
       "1821    0\n",
       "478     0\n",
       "1477    0\n",
       "       ..\n",
       "1130    0\n",
       "1294    0\n",
       "860     0\n",
       "1459    1\n",
       "1126    0\n",
       "Name: It became a relationship, Length: 1611, dtype: int64"
      ]
     },
     "execution_count": 15,
     "metadata": {},
     "output_type": "execute_result"
    }
   ],
   "source": [
    "y_train"
   ]
  },
  {
   "cell_type": "code",
   "execution_count": 47,
   "metadata": {},
   "outputs": [
    {
     "data": {
      "text/html": [
       "<div>\n",
       "<style scoped>\n",
       "    .dataframe tbody tr th:only-of-type {\n",
       "        vertical-align: middle;\n",
       "    }\n",
       "\n",
       "    .dataframe tbody tr th {\n",
       "        vertical-align: top;\n",
       "    }\n",
       "\n",
       "    .dataframe thead th {\n",
       "        text-align: right;\n",
       "    }\n",
       "</style>\n",
       "<table border=\"1\" class=\"dataframe\">\n",
       "  <thead>\n",
       "    <tr style=\"text-align: right;\">\n",
       "      <th></th>\n",
       "      <th>Answer</th>\n",
       "      <th>Count</th>\n",
       "      <th>Percentage</th>\n",
       "    </tr>\n",
       "  </thead>\n",
       "  <tbody>\n",
       "    <tr>\n",
       "      <th>1319</th>\n",
       "      <td>0</td>\n",
       "      <td>0.000000</td>\n",
       "      <td>0.000000</td>\n",
       "    </tr>\n",
       "    <tr>\n",
       "      <th>611</th>\n",
       "      <td>1</td>\n",
       "      <td>2.000000</td>\n",
       "      <td>0.133000</td>\n",
       "    </tr>\n",
       "    <tr>\n",
       "      <th>964</th>\n",
       "      <td>0</td>\n",
       "      <td>1066.134110</td>\n",
       "      <td>0.276810</td>\n",
       "    </tr>\n",
       "    <tr>\n",
       "      <th>1316</th>\n",
       "      <td>0</td>\n",
       "      <td>557.889127</td>\n",
       "      <td>0.274555</td>\n",
       "    </tr>\n",
       "    <tr>\n",
       "      <th>585</th>\n",
       "      <td>0</td>\n",
       "      <td>0.000000</td>\n",
       "      <td>0.000000</td>\n",
       "    </tr>\n",
       "    <tr>\n",
       "      <th>...</th>\n",
       "      <td>...</td>\n",
       "      <td>...</td>\n",
       "      <td>...</td>\n",
       "    </tr>\n",
       "    <tr>\n",
       "      <th>1341</th>\n",
       "      <td>0</td>\n",
       "      <td>844.417862</td>\n",
       "      <td>0.452514</td>\n",
       "    </tr>\n",
       "    <tr>\n",
       "      <th>570</th>\n",
       "      <td>0</td>\n",
       "      <td>0.000000</td>\n",
       "      <td>0.000000</td>\n",
       "    </tr>\n",
       "    <tr>\n",
       "      <th>1169</th>\n",
       "      <td>0</td>\n",
       "      <td>532.760734</td>\n",
       "      <td>0.240402</td>\n",
       "    </tr>\n",
       "    <tr>\n",
       "      <th>1037</th>\n",
       "      <td>0</td>\n",
       "      <td>1.000000</td>\n",
       "      <td>0.200000</td>\n",
       "    </tr>\n",
       "    <tr>\n",
       "      <th>1578</th>\n",
       "      <td>0</td>\n",
       "      <td>1081.011003</td>\n",
       "      <td>0.518052</td>\n",
       "    </tr>\n",
       "  </tbody>\n",
       "</table>\n",
       "<p>285 rows × 3 columns</p>\n",
       "</div>"
      ],
      "text/plain": [
       "      Answer        Count  Percentage\n",
       "1319       0     0.000000    0.000000\n",
       "611        1     2.000000    0.133000\n",
       "964        0  1066.134110    0.276810\n",
       "1316       0   557.889127    0.274555\n",
       "585        0     0.000000    0.000000\n",
       "...      ...          ...         ...\n",
       "1341       0   844.417862    0.452514\n",
       "570        0     0.000000    0.000000\n",
       "1169       0   532.760734    0.240402\n",
       "1037       0     1.000000    0.200000\n",
       "1578       0  1081.011003    0.518052\n",
       "\n",
       "[285 rows x 3 columns]"
      ]
     },
     "execution_count": 47,
     "metadata": {},
     "output_type": "execute_result"
    }
   ],
   "source": [
    "x_test"
   ]
  },
  {
   "cell_type": "code",
   "execution_count": 17,
   "metadata": {},
   "outputs": [
    {
     "data": {
      "text/plain": [
       "1319    0\n",
       "611     1\n",
       "964     1\n",
       "1316    0\n",
       "585     0\n",
       "       ..\n",
       "1341    1\n",
       "570     0\n",
       "1169    0\n",
       "1037    0\n",
       "1578    0\n",
       "Name: It became a relationship, Length: 285, dtype: int64"
      ]
     },
     "execution_count": 17,
     "metadata": {},
     "output_type": "execute_result"
    }
   ],
   "source": [
    "y_test"
   ]
  },
  {
   "cell_type": "code",
   "execution_count": 27,
   "metadata": {},
   "outputs": [],
   "source": [
    "#let's 1st use logistic Regression"
   ]
  },
  {
   "cell_type": "code",
   "execution_count": 28,
   "metadata": {},
   "outputs": [],
   "source": [
    "from sklearn.linear_model import LogisticRegression"
   ]
  },
  {
   "cell_type": "code",
   "execution_count": 30,
   "metadata": {},
   "outputs": [],
   "source": [
    "model1 = LogisticRegression()"
   ]
  },
  {
   "cell_type": "code",
   "execution_count": 48,
   "metadata": {},
   "outputs": [
    {
     "data": {
      "text/plain": [
       "LogisticRegression()"
      ]
     },
     "execution_count": 48,
     "metadata": {},
     "output_type": "execute_result"
    }
   ],
   "source": [
    "model1.fit(x_train, y_train)"
   ]
  },
  {
   "cell_type": "code",
   "execution_count": 50,
   "metadata": {},
   "outputs": [
    {
     "data": {
      "text/plain": [
       "array([0, 1, 0, 0, 0, 0, 0, 0, 0, 0, 0, 0, 0, 0, 1, 0, 1, 0, 0, 0, 1, 0,\n",
       "       0, 0, 0, 0, 0, 0, 0, 0, 0, 0, 0, 0, 0, 0, 0, 0, 0, 0, 0, 1, 0, 0,\n",
       "       1, 0, 0, 0, 0, 1, 0, 0, 1, 1, 0, 0, 0, 0, 0, 0, 0, 0, 0, 0, 0, 0,\n",
       "       0, 0, 0, 0, 0, 0, 0, 0, 0, 0, 0, 1, 1, 0, 1, 0, 0, 1, 0, 0, 0, 0,\n",
       "       1, 0, 0, 0, 0, 0, 0, 0, 1, 0, 0, 0, 0, 0, 0, 0, 0, 0, 0, 0, 0, 0,\n",
       "       0, 0, 0, 0, 1, 0, 0, 1, 0, 1, 0, 0, 0, 0, 1, 0, 0, 0, 1, 0, 0, 0,\n",
       "       0, 0, 0, 0, 1, 0, 0, 0, 0, 0, 1, 0, 0, 0, 0, 0, 0, 0, 0, 0, 1, 0,\n",
       "       0, 0, 0, 0, 1, 0, 1, 0, 0, 0, 0, 0, 0, 0, 0, 0, 0, 1, 1, 0, 0, 0,\n",
       "       0, 0, 0, 0, 1, 0, 0, 1, 0, 1, 0, 1, 0, 0, 0, 0, 0, 0, 0, 1, 1, 0,\n",
       "       0, 0, 0, 0, 0, 0, 0, 0, 0, 0, 0, 0, 0, 0, 0, 1, 1, 0, 1, 0, 0, 0,\n",
       "       0, 0, 0, 0, 0, 0, 0, 1, 0, 0, 0, 0, 0, 0, 1, 1, 0, 0, 0, 0, 0, 0,\n",
       "       0, 0, 0, 1, 1, 0, 0, 0, 1, 0, 1, 0, 0, 0, 0, 0, 0, 0, 1, 0, 1, 1,\n",
       "       1, 0, 0, 0, 0, 0, 1, 0, 0, 1, 0, 0, 0, 1, 0, 0, 0, 0, 0, 0, 1],\n",
       "      dtype=int64)"
      ]
     },
     "execution_count": 50,
     "metadata": {},
     "output_type": "execute_result"
    }
   ],
   "source": [
    "model1.predict(x_test)"
   ]
  },
  {
   "cell_type": "code",
   "execution_count": 51,
   "metadata": {},
   "outputs": [
    {
     "data": {
      "text/plain": [
       "0.5543859649122806"
      ]
     },
     "execution_count": 51,
     "metadata": {},
     "output_type": "execute_result"
    }
   ],
   "source": [
    "model1.score(x_test, y_test)"
   ]
  },
  {
   "cell_type": "code",
   "execution_count": 52,
   "metadata": {},
   "outputs": [
    {
     "data": {
      "text/plain": [
       "array([[0.8497547 , 0.1502453 ],\n",
       "       [0.49637758, 0.50362242],\n",
       "       [0.60139028, 0.39860972],\n",
       "       [0.66929371, 0.33070629],\n",
       "       [0.8497547 , 0.1502453 ],\n",
       "       [0.66567226, 0.33432774],\n",
       "       [0.76497744, 0.23502256],\n",
       "       [0.8497547 , 0.1502453 ],\n",
       "       [0.68203071, 0.31796929],\n",
       "       [0.51571842, 0.48428158],\n",
       "       [0.8497547 , 0.1502453 ],\n",
       "       [0.61046128, 0.38953872],\n",
       "       [0.58056912, 0.41943088],\n",
       "       [0.66514793, 0.33485207],\n",
       "       [0.09438056, 0.90561944],\n",
       "       [0.58759212, 0.41240788],\n",
       "       [0.2758326 , 0.7241674 ],\n",
       "       [0.67301164, 0.32698836],\n",
       "       [0.72168663, 0.27831337],\n",
       "       [0.67876604, 0.32123396],\n",
       "       [0.33077323, 0.66922677],\n",
       "       [0.8497547 , 0.1502453 ],\n",
       "       [0.8497547 , 0.1502453 ],\n",
       "       [0.8497547 , 0.1502453 ],\n",
       "       [0.51053822, 0.48946178],\n",
       "       [0.6753526 , 0.3246474 ],\n",
       "       [0.58209846, 0.41790154],\n",
       "       [0.8497547 , 0.1502453 ],\n",
       "       [0.8497547 , 0.1502453 ],\n",
       "       [0.8497547 , 0.1502453 ],\n",
       "       [0.69422546, 0.30577454],\n",
       "       [0.8497547 , 0.1502453 ],\n",
       "       [0.67182066, 0.32817934],\n",
       "       [0.6529252 , 0.3470748 ],\n",
       "       [0.61548835, 0.38451165],\n",
       "       [0.68860632, 0.31139368],\n",
       "       [0.60687746, 0.39312254],\n",
       "       [0.63266903, 0.36733097],\n",
       "       [0.83212515, 0.16787485],\n",
       "       [0.66771989, 0.33228011],\n",
       "       [0.58501712, 0.41498288],\n",
       "       [0.42135815, 0.57864185],\n",
       "       [0.7103746 , 0.2896254 ],\n",
       "       [0.8497547 , 0.1502453 ],\n",
       "       [0.42122005, 0.57877995],\n",
       "       [0.8497547 , 0.1502453 ],\n",
       "       [0.8497547 , 0.1502453 ],\n",
       "       [0.54785901, 0.45214099],\n",
       "       [0.8497547 , 0.1502453 ],\n",
       "       [0.3138198 , 0.6861802 ],\n",
       "       [0.8497547 , 0.1502453 ],\n",
       "       [0.55695036, 0.44304964],\n",
       "       [0.48804739, 0.51195261],\n",
       "       [0.34442024, 0.65557976],\n",
       "       [0.7014101 , 0.2985899 ],\n",
       "       [0.50779046, 0.49220954],\n",
       "       [0.71742535, 0.28257465],\n",
       "       [0.68182912, 0.31817088],\n",
       "       [0.8497547 , 0.1502453 ],\n",
       "       [0.8497547 , 0.1502453 ],\n",
       "       [0.8497547 , 0.1502453 ],\n",
       "       [0.8497547 , 0.1502453 ],\n",
       "       [0.8497547 , 0.1502453 ],\n",
       "       [0.57865011, 0.42134989],\n",
       "       [0.66242043, 0.33757957],\n",
       "       [0.8497547 , 0.1502453 ],\n",
       "       [0.57068091, 0.42931909],\n",
       "       [0.63637132, 0.36362868],\n",
       "       [0.8497547 , 0.1502453 ],\n",
       "       [0.55581165, 0.44418835],\n",
       "       [0.8497547 , 0.1502453 ],\n",
       "       [0.8497547 , 0.1502453 ],\n",
       "       [0.51063252, 0.48936748],\n",
       "       [0.8497547 , 0.1502453 ],\n",
       "       [0.52466304, 0.47533696],\n",
       "       [0.51400692, 0.48599308],\n",
       "       [0.67881083, 0.32118917],\n",
       "       [0.4602693 , 0.5397307 ],\n",
       "       [0.27571947, 0.72428053],\n",
       "       [0.65294463, 0.34705537],\n",
       "       [0.4745083 , 0.5254917 ],\n",
       "       [0.71214426, 0.28785574],\n",
       "       [0.61985839, 0.38014161],\n",
       "       [0.48162671, 0.51837329],\n",
       "       [0.57909208, 0.42090792],\n",
       "       [0.51105165, 0.48894835],\n",
       "       [0.70146735, 0.29853265],\n",
       "       [0.64204675, 0.35795325],\n",
       "       [0.29733946, 0.70266054],\n",
       "       [0.65943999, 0.34056001],\n",
       "       [0.66883446, 0.33116554],\n",
       "       [0.8497547 , 0.1502453 ],\n",
       "       [0.63949943, 0.36050057],\n",
       "       [0.56092839, 0.43907161],\n",
       "       [0.51010702, 0.48989298],\n",
       "       [0.8497547 , 0.1502453 ],\n",
       "       [0.42242787, 0.57757213],\n",
       "       [0.8497547 , 0.1502453 ],\n",
       "       [0.58209846, 0.41790154],\n",
       "       [0.8497547 , 0.1502453 ],\n",
       "       [0.70242253, 0.29757747],\n",
       "       [0.8497547 , 0.1502453 ],\n",
       "       [0.8497547 , 0.1502453 ],\n",
       "       [0.8497547 , 0.1502453 ],\n",
       "       [0.8497547 , 0.1502453 ],\n",
       "       [0.55757738, 0.44242262],\n",
       "       [0.5803689 , 0.4196311 ],\n",
       "       [0.61239399, 0.38760601],\n",
       "       [0.8497547 , 0.1502453 ],\n",
       "       [0.8497547 , 0.1502453 ],\n",
       "       [0.68253946, 0.31746054],\n",
       "       [0.66125305, 0.33874695],\n",
       "       [0.8497547 , 0.1502453 ],\n",
       "       [0.73576648, 0.26423352],\n",
       "       [0.43471591, 0.56528409],\n",
       "       [0.58209846, 0.41790154],\n",
       "       [0.8497547 , 0.1502453 ],\n",
       "       [0.49050796, 0.50949204],\n",
       "       [0.58209846, 0.41790154],\n",
       "       [0.30564736, 0.69435264],\n",
       "       [0.64938379, 0.35061621],\n",
       "       [0.8497547 , 0.1502453 ],\n",
       "       [0.8497547 , 0.1502453 ],\n",
       "       [0.72178135, 0.27821865],\n",
       "       [0.29733946, 0.70266054],\n",
       "       [0.65774949, 0.34225051],\n",
       "       [0.70972494, 0.29027506],\n",
       "       [0.66866068, 0.33133932],\n",
       "       [0.44649935, 0.55350065],\n",
       "       [0.8497547 , 0.1502453 ],\n",
       "       [0.8497547 , 0.1502453 ],\n",
       "       [0.69390002, 0.30609998],\n",
       "       [0.59095641, 0.40904359],\n",
       "       [0.64065422, 0.35934578],\n",
       "       [0.52045166, 0.47954834],\n",
       "       [0.66374251, 0.33625749],\n",
       "       [0.29733946, 0.70266054],\n",
       "       [0.61655431, 0.38344569],\n",
       "       [0.50923864, 0.49076136],\n",
       "       [0.58209846, 0.41790154],\n",
       "       [0.66826058, 0.33173942],\n",
       "       [0.58397226, 0.41602774],\n",
       "       [0.34569923, 0.65430077],\n",
       "       [0.56632803, 0.43367197],\n",
       "       [0.6048806 , 0.3951194 ],\n",
       "       [0.8497547 , 0.1502453 ],\n",
       "       [0.8497547 , 0.1502453 ],\n",
       "       [0.55962689, 0.44037311],\n",
       "       [0.51440691, 0.48559309],\n",
       "       [0.50566991, 0.49433009],\n",
       "       [0.65940821, 0.34059179],\n",
       "       [0.55577284, 0.44422716],\n",
       "       [0.38553419, 0.61446581],\n",
       "       [0.5393304 , 0.4606696 ],\n",
       "       [0.8497547 , 0.1502453 ],\n",
       "       [0.8497547 , 0.1502453 ],\n",
       "       [0.8497547 , 0.1502453 ],\n",
       "       [0.52810998, 0.47189002],\n",
       "       [0.4476508 , 0.5523492 ],\n",
       "       [0.58947724, 0.41052276],\n",
       "       [0.34750337, 0.65249663],\n",
       "       [0.53337013, 0.46662987],\n",
       "       [0.68414398, 0.31585602],\n",
       "       [0.58209846, 0.41790154],\n",
       "       [0.70791182, 0.29208818],\n",
       "       [0.8497547 , 0.1502453 ],\n",
       "       [0.65810596, 0.34189404],\n",
       "       [0.64880638, 0.35119362],\n",
       "       [0.8497547 , 0.1502453 ],\n",
       "       [0.66700385, 0.33299615],\n",
       "       [0.50816142, 0.49183858],\n",
       "       [0.46221807, 0.53778193],\n",
       "       [0.29733946, 0.70266054],\n",
       "       [0.82988468, 0.17011532],\n",
       "       [0.63324288, 0.36675712],\n",
       "       [0.67710081, 0.32289919],\n",
       "       [0.52343712, 0.47656288],\n",
       "       [0.8497547 , 0.1502453 ],\n",
       "       [0.60011305, 0.39988695],\n",
       "       [0.62752411, 0.37247589],\n",
       "       [0.09438056, 0.90561944],\n",
       "       [0.8497547 , 0.1502453 ],\n",
       "       [0.8497547 , 0.1502453 ],\n",
       "       [0.40237048, 0.59762952],\n",
       "       [0.8497547 , 0.1502453 ],\n",
       "       [0.45108178, 0.54891822],\n",
       "       [0.8497547 , 0.1502453 ],\n",
       "       [0.4883084 , 0.5116916 ],\n",
       "       [0.70528558, 0.29471442],\n",
       "       [0.63955366, 0.36044634],\n",
       "       [0.8497547 , 0.1502453 ],\n",
       "       [0.67363046, 0.32636954],\n",
       "       [0.8497547 , 0.1502453 ],\n",
       "       [0.66366064, 0.33633936],\n",
       "       [0.51917636, 0.48082364],\n",
       "       [0.33010359, 0.66989641],\n",
       "       [0.44397621, 0.55602379],\n",
       "       [0.8497547 , 0.1502453 ],\n",
       "       [0.8497547 , 0.1502453 ],\n",
       "       [0.59010019, 0.40989981],\n",
       "       [0.8497547 , 0.1502453 ],\n",
       "       [0.8497547 , 0.1502453 ],\n",
       "       [0.8497547 , 0.1502453 ],\n",
       "       [0.75796838, 0.24203162],\n",
       "       [0.54761487, 0.45238513],\n",
       "       [0.8497547 , 0.1502453 ],\n",
       "       [0.8497547 , 0.1502453 ],\n",
       "       [0.8497547 , 0.1502453 ],\n",
       "       [0.58209846, 0.41790154],\n",
       "       [0.8497547 , 0.1502453 ],\n",
       "       [0.84416726, 0.15583274],\n",
       "       [0.8497547 , 0.1502453 ],\n",
       "       [0.53666012, 0.46333988],\n",
       "       [0.29722113, 0.70277887],\n",
       "       [0.21433713, 0.78566287],\n",
       "       [0.68056084, 0.31943916],\n",
       "       [0.29733946, 0.70266054],\n",
       "       [0.57260233, 0.42739767],\n",
       "       [0.6590821 , 0.3409179 ],\n",
       "       [0.52957355, 0.47042645],\n",
       "       [0.74726609, 0.25273391],\n",
       "       [0.60718382, 0.39281618],\n",
       "       [0.73240662, 0.26759338],\n",
       "       [0.8497547 , 0.1502453 ],\n",
       "       [0.8497547 , 0.1502453 ],\n",
       "       [0.8497547 , 0.1502453 ],\n",
       "       [0.59047908, 0.40952092],\n",
       "       [0.46327432, 0.53672568],\n",
       "       [0.8497547 , 0.1502453 ],\n",
       "       [0.56783088, 0.43216912],\n",
       "       [0.57368055, 0.42631945],\n",
       "       [0.55610031, 0.44389969],\n",
       "       [0.52928601, 0.47071399],\n",
       "       [0.8497547 , 0.1502453 ],\n",
       "       [0.31237764, 0.68762236],\n",
       "       [0.42135815, 0.57864185],\n",
       "       [0.8497547 , 0.1502453 ],\n",
       "       [0.67243953, 0.32756047],\n",
       "       [0.58981274, 0.41018726],\n",
       "       [0.8497547 , 0.1502453 ],\n",
       "       [0.60480244, 0.39519756],\n",
       "       [0.50065181, 0.49934819],\n",
       "       [0.69250993, 0.30749007],\n",
       "       [0.58209846, 0.41790154],\n",
       "       [0.65555749, 0.34444251],\n",
       "       [0.43557869, 0.56442131],\n",
       "       [0.42389278, 0.57610722],\n",
       "       [0.56901382, 0.43098618],\n",
       "       [0.8497547 , 0.1502453 ],\n",
       "       [0.55971611, 0.44028389],\n",
       "       [0.47266124, 0.52733876],\n",
       "       [0.8497547 , 0.1502453 ],\n",
       "       [0.48851237, 0.51148763],\n",
       "       [0.67321178, 0.32678822],\n",
       "       [0.8497547 , 0.1502453 ],\n",
       "       [0.58019327, 0.41980673],\n",
       "       [0.8497547 , 0.1502453 ],\n",
       "       [0.53864786, 0.46135214],\n",
       "       [0.8497547 , 0.1502453 ],\n",
       "       [0.8497547 , 0.1502453 ],\n",
       "       [0.37692671, 0.62307329],\n",
       "       [0.67671934, 0.32328066],\n",
       "       [0.43388558, 0.56611442],\n",
       "       [0.4788525 , 0.5211475 ],\n",
       "       [0.36967288, 0.63032712],\n",
       "       [0.8497547 , 0.1502453 ],\n",
       "       [0.73808775, 0.26191225],\n",
       "       [0.50720712, 0.49279288],\n",
       "       [0.8497547 , 0.1502453 ],\n",
       "       [0.57737576, 0.42262424],\n",
       "       [0.3138198 , 0.6861802 ],\n",
       "       [0.61942013, 0.38057987],\n",
       "       [0.55685685, 0.44314315],\n",
       "       [0.45421164, 0.54578836],\n",
       "       [0.66029017, 0.33970983],\n",
       "       [0.8497547 , 0.1502453 ],\n",
       "       [0.73787835, 0.26212165],\n",
       "       [0.42135815, 0.57864185],\n",
       "       [0.68893808, 0.31106192],\n",
       "       [0.50833029, 0.49166971],\n",
       "       [0.52033963, 0.47966037],\n",
       "       [0.8497547 , 0.1502453 ],\n",
       "       [0.69163099, 0.30836901],\n",
       "       [0.77095115, 0.22904885],\n",
       "       [0.4446052 , 0.5553948 ]])"
      ]
     },
     "execution_count": 52,
     "metadata": {},
     "output_type": "execute_result"
    }
   ],
   "source": [
    "model1.predict_proba(x_test)"
   ]
  },
  {
   "cell_type": "code",
   "execution_count": 53,
   "metadata": {},
   "outputs": [],
   "source": [
    "#let's now use linear regression"
   ]
  },
  {
   "cell_type": "code",
   "execution_count": 54,
   "metadata": {},
   "outputs": [],
   "source": [
    "model2=linear_model.LinearRegression()"
   ]
  },
  {
   "cell_type": "code",
   "execution_count": 55,
   "metadata": {},
   "outputs": [
    {
     "data": {
      "text/plain": [
       "LinearRegression()"
      ]
     },
     "execution_count": 55,
     "metadata": {},
     "output_type": "execute_result"
    }
   ],
   "source": [
    "model2.fit(x_train, y_train)"
   ]
  },
  {
   "cell_type": "code",
   "execution_count": 56,
   "metadata": {},
   "outputs": [
    {
     "data": {
      "text/plain": [
       "array([0.13110622, 0.50854578, 0.40307909, 0.34747717, 0.13110622,\n",
       "       0.34679671, 0.25246016, 0.13110622, 0.33658025, 0.48467328,\n",
       "       0.13110622, 0.39526025, 0.4224553 , 0.34731559, 1.00343141,\n",
       "       0.41566468, 0.71796861, 0.33915883, 0.29636847, 0.33781561,\n",
       "       0.66058016, 0.13110622, 0.13110622, 0.13110622, 0.48932075,\n",
       "       0.34116537, 0.43239894, 0.13110622, 0.13110622, 0.13110622,\n",
       "       0.32273277, 0.13110622, 0.34595904, 0.35766453, 0.39487952,\n",
       "       0.32826209, 0.4051513 , 0.38164705, 0.16015829, 0.34408753,\n",
       "       0.42286945, 0.57523721, 0.30663482, 0.13110622, 0.57534407,\n",
       "       0.13110622, 0.13110622, 0.45371563, 0.13110622, 0.67764663,\n",
       "       0.13110622, 0.44063289, 0.49756318, 0.62019344, 0.31557934,\n",
       "       0.49166427, 0.29947359, 0.33677724, 0.13110622, 0.13110622,\n",
       "       0.13110622, 0.13110622, 0.13110622, 0.42498746, 0.35456701,\n",
       "       0.13110622, 0.43196364, 0.37821952, 0.13110622, 0.44424059,\n",
       "       0.13110622, 0.13110622, 0.49598542, 0.13110622, 0.49057518,\n",
       "       0.48565603, 0.33777249, 0.5204986 , 0.71807548, 0.36422676,\n",
       "       0.52785038, 0.30470432, 0.39080231, 0.50876084, 0.42387936,\n",
       "       0.48878913, 0.31596899, 0.36980259, 0.7021387 , 0.35293856,\n",
       "       0.34795318, 0.13110622, 0.36975185, 0.43731182, 0.48932234,\n",
       "       0.13110622, 0.5521022 , 0.13110622, 0.43239894, 0.13110622,\n",
       "       0.31456344, 0.13110622, 0.13110622, 0.13110622, 0.13110622,\n",
       "       0.44494842, 0.44079243, 0.40017452, 0.13110622, 0.13110622,\n",
       "       0.33529213, 0.35476774, 0.13110622, 0.28112094, 0.54974538,\n",
       "       0.43239894, 0.13110622, 0.51346748, 0.43239894, 0.69344876,\n",
       "       0.37693288, 0.13110622, 0.13110622, 0.30251317, 0.7021387 ,\n",
       "       0.35934466, 0.3071759 , 0.3580179 , 0.54087299, 0.13110622,\n",
       "       0.13110622, 0.32305454, 0.41199912, 0.36872021, 0.47959359,\n",
       "       0.35388035, 0.7021387 , 0.38997154, 0.49011734, 0.43239894,\n",
       "       0.34854752, 0.41916889, 0.61902866, 0.43972862, 0.40007799,\n",
       "       0.13110622, 0.13110622, 0.44252932, 0.48531065, 0.48305344,\n",
       "       0.35296974, 0.4466476 , 0.58365491, 0.46207199, 0.13110622,\n",
       "       0.13110622, 0.13110622, 0.48694026, 0.53097614, 0.41383619,\n",
       "       0.61738909, 0.46742008, 0.33261421, 0.43239894, 0.30923223,\n",
       "       0.13110622, 0.35294264, 0.36139499, 0.13110622, 0.35069396,\n",
       "       0.49115094, 0.51888458, 0.7021387 , 0.16366475, 0.37531658,\n",
       "       0.33941683, 0.47678318, 0.13110622, 0.40909189, 0.38036811,\n",
       "       1.00343141, 0.13110622, 0.13110622, 0.59207517, 0.13110622,\n",
       "       0.52812232, 0.13110622, 0.50296318, 0.31337685, 0.36970344,\n",
       "       0.13110622, 0.3429655 , 0.13110622, 0.35329306, 0.48079368,\n",
       "       0.66119665, 0.54159751, 0.13110622, 0.13110622, 0.41323139,\n",
       "       0.13110622, 0.13110622, 0.13110622, 0.26089939, 0.45394712,\n",
       "       0.13110622, 0.13110622, 0.13110622, 0.43239894, 0.13110622,\n",
       "       0.14060134, 0.13110622, 0.48025469, 0.70224556, 0.79137317,\n",
       "       0.33801504, 0.7021387 , 0.43074064, 0.35204914, 0.47100136,\n",
       "       0.27394449, 0.41678276, 0.28454139, 0.13110622, 0.13110622,\n",
       "       0.13110622, 0.41366791, 0.53758981, 0.13110622, 0.43469378,\n",
       "       0.42661929, 0.4488799 , 0.47145286, 0.13110622, 0.67916951,\n",
       "       0.57523721, 0.13110622, 0.33969365, 0.41297244, 0.13110622,\n",
       "       0.40477791, 0.51212734, 0.32519574, 0.43239894, 0.3615759 ,\n",
       "       0.5496977 , 0.57237679, 0.43356113, 0.13110622, 0.44684364,\n",
       "       0.51988503, 0.13110622, 0.49718018, 0.33928974, 0.13110622,\n",
       "       0.42351595, 0.13110622, 0.46440187, 0.13110622, 0.13110622,\n",
       "       0.61595007, 0.3356811 , 0.56377374, 0.53124492, 0.63020581,\n",
       "       0.13110622, 0.2843983 , 0.49200618, 0.13110622, 0.42620155,\n",
       "       0.67764663, 0.39121201, 0.46227075, 0.5346665 , 0.35210398,\n",
       "       0.13110622, 0.27895671, 0.57523721, 0.3371343 , 0.49099224,\n",
       "       0.47969902, 0.13110622, 0.32529269, 0.24539821, 0.54240037])"
      ]
     },
     "execution_count": 56,
     "metadata": {},
     "output_type": "execute_result"
    }
   ],
   "source": [
    "model2.predict(x_test)"
   ]
  },
  {
   "cell_type": "code",
   "execution_count": 57,
   "metadata": {},
   "outputs": [
    {
     "data": {
      "text/plain": [
       "array([0., 1., 0., 0., 0., 0., 0., 0., 0., 0., 0., 0., 0., 0., 1., 0., 1.,\n",
       "       0., 0., 0., 1., 0., 0., 0., 0., 0., 0., 0., 0., 0., 0., 0., 0., 0.,\n",
       "       0., 0., 0., 0., 0., 0., 0., 1., 0., 0., 1., 0., 0., 0., 0., 1., 0.,\n",
       "       0., 0., 1., 0., 0., 0., 0., 0., 0., 0., 0., 0., 0., 0., 0., 0., 0.,\n",
       "       0., 0., 0., 0., 0., 0., 0., 0., 0., 1., 1., 0., 1., 0., 0., 1., 0.,\n",
       "       0., 0., 0., 1., 0., 0., 0., 0., 0., 0., 0., 1., 0., 0., 0., 0., 0.,\n",
       "       0., 0., 0., 0., 0., 0., 0., 0., 0., 0., 0., 0., 1., 0., 0., 1., 0.,\n",
       "       1., 0., 0., 0., 0., 1., 0., 0., 0., 1., 0., 0., 0., 0., 0., 0., 0.,\n",
       "       1., 0., 0., 0., 0., 0., 1., 0., 0., 0., 0., 0., 0., 0., 0., 0., 1.,\n",
       "       0., 0., 0., 0., 0., 1., 0., 1., 0., 0., 0., 0., 0., 0., 0., 0., 0.,\n",
       "       0., 1., 1., 0., 0., 0., 0., 0., 0., 0., 1., 0., 0., 1., 0., 1., 0.,\n",
       "       1., 0., 0., 0., 0., 0., 0., 0., 1., 1., 0., 0., 0., 0., 0., 0., 0.,\n",
       "       0., 0., 0., 0., 0., 0., 0., 0., 0., 1., 1., 0., 1., 0., 0., 0., 0.,\n",
       "       0., 0., 0., 0., 0., 0., 1., 0., 0., 0., 0., 0., 0., 1., 1., 0., 0.,\n",
       "       0., 0., 0., 1., 0., 0., 0., 1., 1., 0., 0., 0., 1., 0., 0., 0., 0.,\n",
       "       0., 0., 0., 0., 0., 1., 0., 1., 1., 1., 0., 0., 0., 0., 0., 1., 0.,\n",
       "       0., 1., 0., 0., 0., 1., 0., 0., 0., 0., 0., 0., 1.])"
      ]
     },
     "execution_count": 57,
     "metadata": {},
     "output_type": "execute_result"
    }
   ],
   "source": [
    "model2.predict(x_test).round()"
   ]
  },
  {
   "cell_type": "code",
   "execution_count": 58,
   "metadata": {},
   "outputs": [
    {
     "data": {
      "text/plain": [
       "0.11284305501232161"
      ]
     },
     "execution_count": 58,
     "metadata": {},
     "output_type": "execute_result"
    }
   ],
   "source": [
    "model2.score(x_test, y_test)"
   ]
  },
  {
   "cell_type": "code",
   "execution_count": 63,
   "metadata": {},
   "outputs": [],
   "source": [
    "x=df.drop([\"It became a relationship\",\"Segment Description\", \"Segment type\", \"ID\"], axis=1)"
   ]
  },
  {
   "cell_type": "code",
   "execution_count": 64,
   "metadata": {},
   "outputs": [],
   "source": [
    "x_train, x_test, y_train, y_test = train_test_split(x,y, test_size = 0.15, random_state=42)"
   ]
  },
  {
   "cell_type": "code",
   "execution_count": 66,
   "metadata": {},
   "outputs": [
    {
     "data": {
      "text/plain": [
       "0.8280701754385965"
      ]
     },
     "execution_count": 66,
     "metadata": {},
     "output_type": "execute_result"
    }
   ],
   "source": [
    "from sklearn import svm, datasets\n",
    "model = svm.SVC(kernel='rbf', C=30, gamma='auto')\n",
    "model.fit(x_train, y_train)\n",
    "model.score(x_test, y_test)"
   ]
  },
  {
   "cell_type": "code",
   "execution_count": 72,
   "metadata": {},
   "outputs": [
    {
     "data": {
      "text/plain": [
       "0.8245614035087719"
      ]
     },
     "execution_count": 72,
     "metadata": {},
     "output_type": "execute_result"
    }
   ],
   "source": [
    "from sklearn import svm, datasets\n",
    "model = svm.SVC(kernel='rbf', C=20, gamma='auto')\n",
    "model.fit(x_train, y_train)\n",
    "model.score(x_test, y_test)"
   ]
  },
  {
   "cell_type": "code",
   "execution_count": 73,
   "metadata": {},
   "outputs": [
    {
     "data": {
      "text/plain": [
       "0.8070175438596491"
      ]
     },
     "execution_count": 73,
     "metadata": {},
     "output_type": "execute_result"
    }
   ],
   "source": [
    "from sklearn import svm, datasets\n",
    "model = svm.SVC(kernel='rbf', C=10, gamma='auto')\n",
    "model.fit(x_train, y_train)\n",
    "model.score(x_test, y_test)"
   ]
  },
  {
   "cell_type": "code",
   "execution_count": 74,
   "metadata": {},
   "outputs": [
    {
     "data": {
      "text/plain": [
       "0.8035087719298246"
      ]
     },
     "execution_count": 74,
     "metadata": {},
     "output_type": "execute_result"
    }
   ],
   "source": [
    "from sklearn import svm, datasets\n",
    "model = svm.SVC(kernel='rbf', C=1, gamma='auto')\n",
    "model.fit(x_train, y_train)\n",
    "model.score(x_test, y_test)"
   ]
  },
  {
   "cell_type": "code",
   "execution_count": 75,
   "metadata": {},
   "outputs": [
    {
     "data": {
      "text/plain": [
       "0.8385964912280702"
      ]
     },
     "execution_count": 75,
     "metadata": {},
     "output_type": "execute_result"
    }
   ],
   "source": [
    "from sklearn import svm, datasets\n",
    "model = svm.SVC(kernel='rbf', C=50, gamma='auto')\n",
    "model.fit(x_train, y_train)\n",
    "model.score(x_test, y_test)"
   ]
  },
  {
   "cell_type": "code",
   "execution_count": 76,
   "metadata": {},
   "outputs": [
    {
     "data": {
      "text/plain": [
       "0.8526315789473684"
      ]
     },
     "execution_count": 76,
     "metadata": {},
     "output_type": "execute_result"
    }
   ],
   "source": [
    "from sklearn import svm, datasets\n",
    "model = svm.SVC(kernel='rbf', C=100, gamma='auto')\n",
    "model.fit(x_train, y_train)\n",
    "model.score(x_test, y_test)"
   ]
  },
  {
   "cell_type": "code",
   "execution_count": 77,
   "metadata": {},
   "outputs": [
    {
     "data": {
      "text/plain": [
       "0.8526315789473684"
      ]
     },
     "execution_count": 77,
     "metadata": {},
     "output_type": "execute_result"
    }
   ],
   "source": [
    "from sklearn import svm, datasets\n",
    "model = svm.SVC(kernel='rbf', C=500, gamma='auto')\n",
    "model.fit(x_train, y_train)\n",
    "model.score(x_test, y_test)"
   ]
  },
  {
   "cell_type": "code",
   "execution_count": 78,
   "metadata": {},
   "outputs": [
    {
     "data": {
      "text/plain": [
       "0.8456140350877193"
      ]
     },
     "execution_count": 78,
     "metadata": {},
     "output_type": "execute_result"
    }
   ],
   "source": [
    "from sklearn import svm, datasets\n",
    "model = svm.SVC(kernel='rbf', C=1000, gamma='auto')\n",
    "model.fit(x_train, y_train)\n",
    "model.score(x_test, y_test)"
   ]
  },
  {
   "cell_type": "code",
   "execution_count": null,
   "metadata": {},
   "outputs": [],
   "source": []
  }
 ],
 "metadata": {
  "kernelspec": {
   "display_name": "Python 3",
   "language": "python",
   "name": "python3"
  }
 },
 "nbformat": 4,
 "nbformat_minor": 4
}
